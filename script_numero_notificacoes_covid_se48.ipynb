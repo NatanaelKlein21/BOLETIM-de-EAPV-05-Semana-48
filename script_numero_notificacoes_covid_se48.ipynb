{
 "cells": [
  {
   "cell_type": "code",
   "execution_count": 1,
   "id": "8e96a3bc",
   "metadata": {},
   "outputs": [],
   "source": [
    "import pandas as pd"
   ]
  },
  {
   "cell_type": "code",
   "execution_count": 3,
   "id": "657d29d1",
   "metadata": {},
   "outputs": [
    {
     "name": "stderr",
     "output_type": "stream",
     "text": [
      "/var/folders/4y/plk7ct8n4g9gz40s3_dvz7cm0000gn/T/ipykernel_27298/3391415459.py:1: ParserWarning: Falling back to the 'python' engine because the 'c' engine does not support sep=None with delim_whitespace=False; you can avoid this warning by specifying engine='python'.\n",
      "  df_covid = pd.read_csv('Relatorios/infeccao_covid.csv', sep=None, encoding='utf8') # utf8 ou cp1252 latin1\n"
     ]
    }
   ],
   "source": [
    "df_covid = pd.read_csv('Relatorios/infeccao_covid.csv', sep=None, encoding='utf8') # utf8 ou cp1252 latin1"
   ]
  },
  {
   "cell_type": "code",
   "execution_count": 27,
   "id": "2c52ba3a",
   "metadata": {},
   "outputs": [
    {
     "data": {
      "text/plain": [
       "pandas.core.series.Series"
      ]
     },
     "execution_count": 27,
     "metadata": {},
     "output_type": "execute_result"
    }
   ],
   "source": [
    "df_covid_adicional = pd.read_excel('Relatorios/infeccao_covid_adicional.xlsx')\n",
    "type(df_covid_adicional['NUMERO DA NOTIFICACAO'])"
   ]
  },
  {
   "cell_type": "code",
   "execution_count": 28,
   "id": "6346705d",
   "metadata": {},
   "outputs": [
    {
     "data": {
      "text/plain": [
       "90"
      ]
     },
     "execution_count": 28,
     "metadata": {},
     "output_type": "execute_result"
    }
   ],
   "source": [
    "df_covid_adicional['NUMERO DA NOTIFICACAO'].nunique() #unique()"
   ]
  },
  {
   "cell_type": "code",
   "execution_count": 29,
   "id": "e3a7ae94",
   "metadata": {},
   "outputs": [],
   "source": [
    "lista_covid_adicional =  list(df_covid_adicional['NUMERO DA NOTIFICACAO'].astype(str).unique())"
   ]
  },
  {
   "cell_type": "code",
   "execution_count": 33,
   "id": "4944088a",
   "metadata": {},
   "outputs": [],
   "source": [
    "lista_covid = list(df_covid['﻿NUMERO DA NOTIFICACAO'].astype(str).unique())"
   ]
  },
  {
   "cell_type": "code",
   "execution_count": 35,
   "id": "06726fe0",
   "metadata": {},
   "outputs": [
    {
     "data": {
      "text/plain": [
       "1073"
      ]
     },
     "execution_count": 35,
     "metadata": {},
     "output_type": "execute_result"
    }
   ],
   "source": [
    "len(lista_covid)"
   ]
  },
  {
   "cell_type": "code",
   "execution_count": 37,
   "id": "a7b8109c",
   "metadata": {},
   "outputs": [],
   "source": [
    "set_covid = set(lista_covid_adicional + lista_covid)"
   ]
  },
  {
   "cell_type": "code",
   "execution_count": 38,
   "id": "30eb0372",
   "metadata": {},
   "outputs": [
    {
     "data": {
      "text/plain": [
       "1076"
      ]
     },
     "execution_count": 38,
     "metadata": {},
     "output_type": "execute_result"
    }
   ],
   "source": [
    "len(set_covid)"
   ]
  }
 ],
 "metadata": {
  "kernelspec": {
   "display_name": "Python 3",
   "language": "python",
   "name": "python3"
  },
  "language_info": {
   "codemirror_mode": {
    "name": "ipython",
    "version": 3
   },
   "file_extension": ".py",
   "mimetype": "text/x-python",
   "name": "python",
   "nbconvert_exporter": "python",
   "pygments_lexer": "ipython3",
   "version": "3.8.8"
  }
 },
 "nbformat": 4,
 "nbformat_minor": 5
}
